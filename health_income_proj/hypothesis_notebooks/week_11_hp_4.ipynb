{
 "cells": [
  {
   "cell_type": "markdown",
   "id": "03379115-5135-495f-857f-2a0deb0c948d",
   "metadata": {},
   "source": [
    "###  Hypothesis 4: Higher education leads to higher income, even after adjusting for job type and province."
   ]
  },
  {
   "cell_type": "code",
   "execution_count": 6,
   "id": "995f2d71-0484-4891-9fe4-6fe2ea6b25e1",
   "metadata": {},
   "outputs": [
    {
     "name": "stdout",
     "output_type": "stream",
     "text": [
      "🔍 X dtypes:\n",
      " Highest_edu_2    bool\n",
      "Highest_edu_3    bool\n",
      "Highest_edu_4    bool\n",
      "Highest_edu_9    bool\n",
      "Province_11      bool\n",
      "Province_12      bool\n",
      "Province_13      bool\n",
      "Province_24      bool\n",
      "Province_35      bool\n",
      "Province_46      bool\n",
      "Province_47      bool\n",
      "Province_48      bool\n",
      "Province_59      bool\n",
      "Work_ref_2       bool\n",
      "dtype: object\n",
      "🔍 y dtype: int64\n",
      "\n",
      "🚫 Non-numeric columns in X: []\n",
      "                            OLS Regression Results                            \n",
      "==============================================================================\n",
      "Dep. Variable:                Earning   R-squared:                       0.136\n",
      "Model:                            OLS   Adj. R-squared:                  0.136\n",
      "Method:                 Least Squares   F-statistic:                     6630.\n",
      "Date:                Tue, 25 Mar 2025   Prob (F-statistic):               0.00\n",
      "Time:                        18:52:19   Log-Likelihood:            -7.1499e+06\n",
      "No. Observations:              587361   AIC:                         1.430e+07\n",
      "Df Residuals:                  587346   BIC:                         1.430e+07\n",
      "Df Model:                          14                                         \n",
      "Covariance Type:            nonrobust                                         \n",
      "=================================================================================\n",
      "                    coef    std err          t      P>|t|      [0.025      0.975]\n",
      "---------------------------------------------------------------------------------\n",
      "const          6.681e+04   1448.053     46.135      0.000     6.4e+04    6.96e+04\n",
      "Highest_edu_2    19.4805    285.852      0.068      0.946    -540.781     579.742\n",
      "Highest_edu_3  9550.6752    276.407     34.553      0.000    9008.926    1.01e+04\n",
      "Highest_edu_4  2.848e+04    272.704    104.438      0.000    2.79e+04     2.9e+04\n",
      "Highest_edu_9 -1120.1044    474.665     -2.360      0.018   -2050.433    -189.776\n",
      "Province_11   -4.222e+04   1962.685    -21.511      0.000   -4.61e+04   -3.84e+04\n",
      "Province_12   -3.337e+04   1605.283    -20.791      0.000   -3.65e+04   -3.02e+04\n",
      "Province_13   -3.443e+04   1752.170    -19.651      0.000   -3.79e+04    -3.1e+04\n",
      "Province_24   -3.075e+04   1436.939    -21.401      0.000   -3.36e+04   -2.79e+04\n",
      "Province_35   -2.324e+04   1428.806    -16.263      0.000    -2.6e+04   -2.04e+04\n",
      "Province_46   -3.028e+04   1465.904    -20.656      0.000   -3.32e+04   -2.74e+04\n",
      "Province_47   -2.922e+04   1527.771    -19.125      0.000   -3.22e+04   -2.62e+04\n",
      "Province_48   -1.492e+04   1444.780    -10.326      0.000   -1.78e+04   -1.21e+04\n",
      "Province_59   -2.676e+04   1439.663    -18.588      0.000   -2.96e+04   -2.39e+04\n",
      "Work_ref_2    -4.302e+04    204.756   -210.114      0.000   -4.34e+04   -4.26e+04\n",
      "==============================================================================\n",
      "Omnibus:                   395157.503   Durbin-Watson:                   0.017\n",
      "Prob(Omnibus):                  0.000   Jarque-Bera (JB):          9881108.708\n",
      "Skew:                           2.890   Prob(JB):                         0.00\n",
      "Kurtosis:                      22.244   Cond. No.                         100.\n",
      "==============================================================================\n",
      "\n",
      "Notes:\n",
      "[1] Standard Errors assume that the covariance matrix of the errors is correctly specified.\n"
     ]
    }
   ],
   "source": [
    "import pandas as pd\n",
    "import statsmodels.api as sm\n",
    "\n",
    "# Load and subset data\n",
    "df = pd.read_csv(\"combined_income_health.csv\")\n",
    "df = df[['Highest_edu', 'Province', 'Work_ref', 'Earning']].copy()\n",
    "\n",
    "# Drop rows with missing or invalid earnings\n",
    "df = df[df['Earning'].notna() & (df['Earning'] > 0)]\n",
    "\n",
    "# Convert to categorical\n",
    "df['Highest_edu'] = df['Highest_edu'].astype('category')\n",
    "df['Province'] = df['Province'].astype('category')\n",
    "df['Work_ref'] = df['Work_ref'].astype('category')\n",
    "\n",
    "# One-hot encode\n",
    "X = pd.get_dummies(df[['Highest_edu', 'Province', 'Work_ref']], drop_first=True)\n",
    "\n",
    "# Convert target to numeric\n",
    "y = pd.to_numeric(df['Earning'], errors='coerce')\n",
    "\n",
    "# 👀 DEBUG: Check dtypes\n",
    "print(\"🔍 X dtypes:\\n\", X.dtypes)\n",
    "print(\"🔍 y dtype:\", y.dtype)\n",
    "\n",
    "# 👀 DEBUG: Check for object types\n",
    "print(\"\\n🚫 Non-numeric columns in X:\", X.select_dtypes(include='object').columns.tolist())\n",
    "\n",
    "# Drop any NaNs (just in case)\n",
    "X = X.apply(pd.to_numeric, errors='coerce')\n",
    "X = X.dropna()\n",
    "y = y.loc[X.index]\n",
    "\n",
    "# Convert boolean columns to int (0/1)\n",
    "X = X.astype(int)\n",
    "\n",
    "# Add constant\n",
    "X_const = sm.add_constant(X)\n",
    "\n",
    "# Fit model\n",
    "model = sm.OLS(y, X_const).fit()\n",
    "print(model.summary())\n"
   ]
  },
  {
   "cell_type": "code",
   "execution_count": 7,
   "id": "3b144e26-d4a2-4e06-8cf1-9b77cb097555",
   "metadata": {},
   "outputs": [
    {
     "data": {
      "image/png": "[encoded data removed]",
      "text/plain": [
       "<Figure size 1000x600 with 1 Axes>"
      ]
     },
     "metadata": {},
     "output_type": "display_data"
    }
   ],
   "source": [
    "sns.set(style=\"whitegrid\")\n",
    "plt.figure(figsize=(10, 6))\n",
    "sns.boxplot(data=df, x='Highest_edu', y='Earning')\n",
    "plt.xticks(rotation=45)\n",
    "plt.title(\"Earnings by Education Level\")\n",
    "plt.ylabel(\"Earnings (CAD)\")\n",
    "plt.xlabel(\"Highest Education Level\")\n",
    "plt.tight_layout()\n",
    "plt.show()"
   ]
  },
  {
   "cell_type": "markdown",
   "id": "26b4ef0f-6cdd-46e6-93da-79c42f9499c9",
   "metadata": {},
   "source": [
    "### 🎓 Hypothesis 4: Education & Earnings\n",
    "\n",
    "> **Hypothesis**: Higher education leads to higher earnings, even after adjusting for job type and province.\n",
    "\n",
    "---\n",
    "\n",
    "#### 📊 Regression Insights\n",
    "\n",
    "- **Model**: OLS Linear Regression  \n",
    "- **R²**: 0.136 — About 13.6% of income variation explained by education, province, and employment status.\n",
    "- **Significant Predictors**:\n",
    "  - **Postgraduate education**: +\\$28.5k compared to base group\n",
    "  - **College education**: +\\$9.5k compared to base group\n",
    "  - **Unemployment (Work_ref_2)**: −\\$43k drop in earnings\n",
    "- **All coefficients for provinces** are significantly negative, suggesting regional differences in earnings.\n",
    "\n",
    "---\n",
    "\n",
    "#### 📦 Boxplot Summary: Earnings by Education Level\n",
    "\n",
    "![Earnings by Education Level](your_boxplot_image.png)\n",
    "\n",
    "- **Trend**: Median earnings increase with education level, peaking at postgraduate (level 4).\n",
    "- **Spread**: Earnings variability also grows with education, especially at postgraduate levels.\n",
    "- **Outliers**: Higher education groups show more high-earning outliers.\n",
    "\n",
    "---\n",
    "\n",
    "#### ✅ Conclusion\n",
    "\n",
    "Higher education is **strongly associated with increased earnings**, and this relationship remains robust even after controlling for **province and job status**. The boxplot further confirms this with visibly rising median incomes and wider spread for higher education levels.\n"
   ]
  }
 ],
 "metadata": {
  "kernelspec": {
   "display_name": "Python 3 (ipykernel)",
   "language": "python",
   "name": "python3"
  },
  "language_info": {
   "codemirror_mode": {
    "name": "ipython",
    "version": 3
   },
   "file_extension": ".py",
   "mimetype": "text/x-python",
   "name": "python",
   "nbconvert_exporter": "python",
   "pygments_lexer": "ipython3",
   "version": "3.10.0"
  }
 },
 "nbformat": 4,
 "nbformat_minor": 5
}
